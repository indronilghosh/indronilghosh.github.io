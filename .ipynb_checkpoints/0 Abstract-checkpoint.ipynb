{
 "cells": [
  {
   "cell_type": "markdown",
   "id": "40766c72-e16b-45f1-b908-9ef03b45b710",
   "metadata": {},
   "source": [
    "# Abstract\n",
    "We present a comprehensive database for the ferritic-martensitic steel F82H.  The database is intended to assist in the mechanical design of components manufactured from reduced activation 9 Cr steels (e.g. F82H), in particular, in a fusion reactor power source. The database is classified into three main categories: (1) fabrication and microstructure, (2) thermophysical properties, and (3) mechanical properties.  The effects of irradiation (both neutron and ion) on the properties of F82H are also discussed. Data for each property is collected from various sources available in the public domain.  The sources of data are given together with links to the original publication for verification or corrections. Various functional forms are developed to describe the properties of F82H as a function of temperature, and if available, as a function of the irradiation dose."
   ]
  },
  {
   "cell_type": "code",
   "execution_count": null,
   "id": "0f63addd-ef7a-47ee-8207-ed3dde884bfd",
   "metadata": {},
   "outputs": [],
   "source": []
  }
 ],
 "metadata": {
  "kernelspec": {
   "display_name": "Python 3 (ipykernel)",
   "language": "python",
   "name": "python3"
  },
  "language_info": {
   "codemirror_mode": {
    "name": "ipython",
    "version": 3
   },
   "file_extension": ".py",
   "mimetype": "text/x-python",
   "name": "python",
   "nbconvert_exporter": "python",
   "pygments_lexer": "ipython3",
   "version": "3.12.4"
  }
 },
 "nbformat": 4,
 "nbformat_minor": 5
}
